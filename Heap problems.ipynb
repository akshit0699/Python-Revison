{
 "cells": [
  {
   "cell_type": "code",
   "execution_count": 1,
   "metadata": {},
   "outputs": [],
   "source": [
    "# Find the kth largest element in a list\n",
    "# We will use a min heap, because we dont care about smaller elements\n",
    "def findKthLargesst(nums, k):\n",
    "    heapq.heapify(nums)\n",
    "    for _ in xrange(len(nums)-k): # remove the nums-k elements(smaller than kth element)\n",
    "        heapq.heappop(nums)\n",
    "    return heapq.heappop(nums) #finally we can remove the one we need!\n"
   ]
  },
  {
   "cell_type": "code",
   "execution_count": 23,
   "metadata": {},
   "outputs": [],
   "source": [
    "# Find the kth smallest element in a list\n",
    "# We will use a max heap, because we dont care about larger elements\n",
    "def findKthSmallest(nums, k):\n",
    "        heapq.heappush(-nums)\n",
    "        for _ in xrange(len(nums)-k): # remove the nums-k elements(larger than kth element)\n",
    "            heapq.heappop(nums)\n",
    "        return -heapq.heappop(nums) #finally we can remove the one we need!\n"
   ]
  },
  {
   "cell_type": "code",
   "execution_count": 4,
   "metadata": {},
   "outputs": [],
   "source": [
    "# Find the top k most frquent elemtents in the array\n",
    "# Create a mapping, number -->its frquency and maitain the heap based on this\n",
    "# Use a min heap, coz we need only the larger frquency values, remove the smaller ones\n",
    "def topKFrequent(self, nums, k):\n",
    "        res = []\n",
    "        mapping  = collections.defaultdict(int)\n",
    "        for x in nums:\n",
    "            mapping[x]+=1\n",
    "            \n",
    "        for key, val in mapping.items():\n",
    "            if len(res)<k:\n",
    "                heapq.heappush(res, [val,key])\n",
    "            else:\n",
    "                heapq.heappushpop(res, [val, key])\n",
    "        return [y for x,y in res]\n",
    "    "
   ]
  },
  {
   "cell_type": "code",
   "execution_count": 5,
   "metadata": {},
   "outputs": [],
   "source": [
    "# K points closest to the origin\n",
    "# For all the points we find their distances from the origin and we only need the smallest distances\n",
    "# We are concerned about the small values only\n",
    "# So we choose a max heap\n",
    "def kClosest(points, k):\n",
    "        heap = []\n",
    "        for (x, y) in points:\n",
    "            dist = -(x*x + y*y)\n",
    "            if len(heap) < K:\n",
    "                heapq.heappush(heap, (dist, x, y))\n",
    "            else:\n",
    "                heapq.heappushpop(heap, (dist, x, y))\n",
    "        \n",
    "        return [(x,y) for (dist,x, y) in heap]"
   ]
  },
  {
   "cell_type": "code",
   "execution_count": 6,
   "metadata": {},
   "outputs": [],
   "source": [
    "# Merge k sorted lists\n",
    "# Put them all in a heap and take the elemnts out one by one and thu we have a sorted order in our hands\n",
    "# We need the smallest elements first and then all of them, min heap used \n",
    "import heapq\n",
    "def mergeKLists(lists):\n",
    "        \n",
    "    ret, heap = [], []\n",
    "    for lst in lists:\n",
    "        while lst:\n",
    "            heapq.heappush(heap, lst.val)\n",
    "            lst = lst.next\n",
    "\n",
    "    while heap:\n",
    "        ret.append(heapq.heappop(heap))\n",
    "    return ret"
   ]
  },
  {
   "cell_type": "code",
   "execution_count": 19,
   "metadata": {},
   "outputs": [],
   "source": [
    "# I want the element with the largest frqeuency first, therefore use a max heap\n",
    "# Create a mapping and keep adding the items, with frequency value negated to create max heap\n",
    "def frquencySort(string):\n",
    "    #cnt = collections.Counter(s)\n",
    "    mapping = collections.defaultdict(int)\n",
    "    for x in s:\n",
    "        mapping[x]+=1\n",
    "    heap =  [(-values, keys) for keys, values in mapping.items()]\n",
    "    heapq.heapify(heap)\n",
    "    res = []\n",
    "    while heap:\n",
    "        value, key = heapq.heappop(heap)\n",
    "        res = res + [key]* (-value)\n",
    "    return ''.join(res)       "
   ]
  },
  {
   "cell_type": "code",
   "execution_count": 21,
   "metadata": {},
   "outputs": [],
   "source": [
    "# Sort an almost sorted aray, sort a k sorted array\n",
    "# Meaning each element is withing a window of k spaces left or right of its actual position\n",
    "def sort_k(arr, k):\n",
    "    heap = arr[:k+1] # Put the first k elements into the heap\n",
    "    heapq.heapify(heap)\n",
    "    idx = 0\n",
    "    for next_idx in range(k+1, n):\n",
    "        arr[idx] = heapq.heappop(heap)\n",
    "        heapq.heappush(heap, arr[next_idx])\n",
    "        idx+=1\n",
    "    # All elements are in the heap\n",
    "    # Now deap with the elements that have not been extracted\n",
    "    while heap:\n",
    "        arr[idx] = heapq.heappop(heap)\n",
    "        idx+=1"
   ]
  },
  {
   "cell_type": "code",
   "execution_count": 22,
   "metadata": {},
   "outputs": [],
   "source": [
    "class Solution(object):\n",
    "    def kSmallestPairs(self, nums1, nums2, k):\n",
    "        # we need to fix the first element, and move along the second one, and keep\n",
    "        # a heap, conitnually put elements inside it.\n",
    "        # The moment you get in a sum value that is smaller than the root of your heap\n",
    "        # you interchange that, and move ahead.\n",
    "        # We need to get rid of the larger elements and preserve only the smaller ones. Max heap\n",
    "        if not nums1 or not nums2 or not k:\n",
    "            return []\n",
    "        curr_sum = 0\n",
    "        heap = []\n",
    "        for x in nums1:\n",
    "            for y in nums2:\n",
    "                curr_sum = -(x + y)\n",
    "                if len(heap)<k: \n",
    "                    heapq.heappush(heap, (curr_sum, [x, y]))\n",
    "                else:\n",
    "                    if -curr_sum < -heap[0][0]:\n",
    "                        heapq.heappop(heap)\n",
    "                        heapq.heappush(heap, (curr_sum, [x, y]))\n",
    "                    else:\n",
    "                        break\n",
    "        return [heapq.heappop(heap)[1] for _ in range(k) if heap]\n",
    "        # or if k>len(nums1)*len(nums2):\n",
    "        # k= len(nums1)*len(nums2) in beginning so that the k value is not greater than the possibility space\n",
    "\n",
    "        "
   ]
  },
  {
   "cell_type": "code",
   "execution_count": 24,
   "metadata": {},
   "outputs": [],
   "source": [
    "class Solution(object):\n",
    "    def kthSmallest(self, matrix, k):\n",
    "        \"\"\"\n",
    "        :type matrix: List[List[int]]\n",
    "        :type k: int\n",
    "        :rtype: int\n",
    "        \"\"\"\n",
    "        heap = []\n",
    "        for row in matrix:\n",
    "            for ele in row:\n",
    "                heap.append(-ele)\n",
    "        heapq.heapify(heap)\n",
    "        for _ in xrange(len(heap)-k): # remove the nums-k elements(larger than kth element)\n",
    "            heapq.heappop(heap)\n",
    "        return -heapq.heappop(heap) #finally we can remove the one we need!\n",
    "\n",
    "        "
   ]
  },
  {
   "cell_type": "code",
   "execution_count": 25,
   "metadata": {},
   "outputs": [],
   "source": [
    "# ALL THESE QUESTIONS CAN HAVE OPTIMIZED APPROACHES BASES ON:\n",
    "# Merge sort\n",
    "# Quick sort\n",
    "# Bucket sort\n",
    "# Quick select\n",
    "# Binary search"
   ]
  },
  {
   "cell_type": "code",
   "execution_count": null,
   "metadata": {},
   "outputs": [],
   "source": []
  }
 ],
 "metadata": {
  "kernelspec": {
   "display_name": "Python 3",
   "language": "python",
   "name": "python3"
  },
  "language_info": {
   "codemirror_mode": {
    "name": "ipython",
    "version": 3
   },
   "file_extension": ".py",
   "mimetype": "text/x-python",
   "name": "python",
   "nbconvert_exporter": "python",
   "pygments_lexer": "ipython3",
   "version": "3.6.5"
  }
 },
 "nbformat": 4,
 "nbformat_minor": 2
}
