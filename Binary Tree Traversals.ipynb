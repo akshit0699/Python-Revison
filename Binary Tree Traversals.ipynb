{
 "cells": [
  {
   "cell_type": "markdown",
   "metadata": {},
   "source": [
    "<h3>Inorder, Preorder, Postorder, Level order, Vertical order"
   ]
  },
  {
   "cell_type": "markdown",
   "metadata": {},
   "source": [
    "ONE QUICK IMPLEMENTATION (RECURSIVE)"
   ]
  },
  {
   "cell_type": "code",
   "execution_count": 3,
   "metadata": {},
   "outputs": [],
   "source": [
    "def preorder(root):\n",
    "    return [root.val] + preorder(root.left) + preorder(root.right) if root else []\n",
    "def inorder(root):\n",
    "    return  inorder(root.left) + [root.val] + inorder(root.right) if root else []\n",
    "def postorder(root):\n",
    "    return  postorder(root.left) + postorder(root.right) + [root.val] if root else []"
   ]
  },
  {
   "cell_type": "markdown",
   "metadata": {},
   "source": [
    "<h4> INORDER TAVERSAL"
   ]
  },
  {
   "cell_type": "code",
   "execution_count": 1,
   "metadata": {},
   "outputs": [],
   "source": [
    "# First the left node, then value, then the right node\n",
    "\n",
    "def inorderRec(root):\n",
    "    self.path = []\n",
    "    if not root:\n",
    "        return self.path\n",
    "    def helper(root):\n",
    "        if not root:\n",
    "            return\n",
    "        helper(root.left)\n",
    "        self.path.append(root.val)\n",
    "        helper(root.right)\n",
    "    helper(root)\n",
    "    return self.path\n",
    "        \n",
    "    "
   ]
  },
  {
   "cell_type": "code",
   "execution_count": 5,
   "metadata": {},
   "outputs": [],
   "source": [
    "# Create a result list, and a stack to keep track.\n",
    "# Keep adding into the stack the left element, keep going right untill you hit null\n",
    "# Once null is hit, remove the element(node) from stack, add to result,and set root = node.right\n",
    "def inorderIter(root):\n",
    "    res, stack = [], []\n",
    "    while True:\n",
    "        while root:\n",
    "            stack.append(root)\n",
    "            root = root.left\n",
    "        if not stack:\n",
    "            return res\n",
    "        node = stack.pop()\n",
    "        res.append(node.val)\n",
    "        root = node.right\n",
    "        "
   ]
  },
  {
   "cell_type": "markdown",
   "metadata": {},
   "source": [
    "<h4> PREORDER TAVERSAL"
   ]
  },
  {
   "cell_type": "code",
   "execution_count": 6,
   "metadata": {},
   "outputs": [],
   "source": [
    "def preOrderRec(root):\n",
    "    self.path = []\n",
    "    if not root:\n",
    "        return self.path\n",
    "    def helper(root):\n",
    "        if not root:\n",
    "            return\n",
    "        self.path.append(root.val)\n",
    "        helper(root.left)\n",
    "        helper(root.right)\n",
    "    helper(root)\n",
    "    return self.path"
   ]
  },
  {
   "cell_type": "code",
   "execution_count": 9,
   "metadata": {},
   "outputs": [],
   "source": [
    "#Right child is pushed before left child to make sure that left subtree is processed first.\n",
    "# Create a result list, and a stack to keep track. add root elment to begin with\n",
    "# Remove the node, and append to result\n",
    "# Explore its right and left subtrees in this order by pushing into the stack\n",
    "def preorderTraversal(self, root):\n",
    "    stack, res = [root], []\n",
    "    while stack:\n",
    "        node = stack.pop()\n",
    "        if node:\n",
    "            res.append(node.val)\n",
    "            stack.append(node.right)\n",
    "            stack.append(node.left)\n",
    "    return res          "
   ]
  },
  {
   "cell_type": "markdown",
   "metadata": {},
   "source": [
    "<h4>POST ORDER TRAVERSAL"
   ]
  },
  {
   "cell_type": "code",
   "execution_count": 8,
   "metadata": {},
   "outputs": [],
   "source": [
    "def postOrderRec(root):\n",
    "    self.path = []\n",
    "    if not root:\n",
    "        return self.path\n",
    "    def helper(root):\n",
    "        if not root:\n",
    "            return\n",
    "        helper(root.left)\n",
    "        helper(root.right)\n",
    "        \n",
    "    helper(root)\n",
    "    return self.path"
   ]
  },
  {
   "cell_type": "code",
   "execution_count": 11,
   "metadata": {},
   "outputs": [],
   "source": [
    "# Totally similar to iterative PreOrder traversal\n",
    "# Return REVERSED PATH, and do left call before right call\n",
    "def postOrderIter(root):\n",
    "    stack, res = [root], []\n",
    "    while stack:\n",
    "        node = stack.pop()\n",
    "        if node:\n",
    "            res.append(node.val)\n",
    "            stack.append(node.right)\n",
    "            stack.append(node.left)\n",
    "    return res[::-1]"
   ]
  },
  {
   "cell_type": "markdown",
   "metadata": {},
   "source": [
    "<h4> LEVEL ORDER TRAVERSAL"
   ]
  },
  {
   "cell_type": "code",
   "execution_count": 16,
   "metadata": {},
   "outputs": [],
   "source": [
    "from collections import deque\n",
    "def levelOrder(root):\n",
    "# Create an empty queue, add the root.\n",
    "# temp = root\n",
    "# while temp!=nullptr, print temp's data, enqueue temps left childer first and then right children (if any)\n",
    "# deque a new node and assign it to temp, so that we can explore that now\n",
    "    if not root:\n",
    "        return\n",
    "    queue = dequeue(root)\n",
    "    while queue:\n",
    "        node = queue.popleft()\n",
    "        print(node.data)\n",
    "        if node.left:\n",
    "            queue.append(node.left)\n",
    "        if node.right:\n",
    "            queue.append(node.right)"
   ]
  },
  {
   "cell_type": "code",
   "execution_count": 18,
   "metadata": {},
   "outputs": [],
   "source": [
    "def levelOrderLineWise(root):\n",
    "    if not root:\n",
    "        return []\n",
    "    res, queue = deque([root]), []\n",
    "    while queue:\n",
    "        curr_level, size = [], len(queue)\n",
    "        for i in range(size):\n",
    "            node = queue.popleft()\n",
    "            if node.left:\n",
    "                queue.append(node.left)\n",
    "            if node.right:\n",
    "                queue.append(node.right)\n",
    "            curr_level.append(node.val)\n",
    "        res.append(curr_level)\n",
    "    return res\n",
    "        "
   ]
  },
  {
   "cell_type": "markdown",
   "metadata": {},
   "source": [
    "<h4> VERTICAL ORDER TRAVERSAL"
   ]
  },
  {
   "cell_type": "code",
   "execution_count": 23,
   "metadata": {},
   "outputs": [],
   "source": [
    "# Definition for a binary tree node.\n",
    "# class TreeNode(object):\n",
    "#     def __init__(self, val=0, left=None, right=None):\n",
    "#         self.val = val\n",
    "#         self.left = left\n",
    "#         self.right = right\n",
    "class Solution(object):\n",
    "    def verticalTraversal(self, root):\n",
    "        \"\"\"\n",
    "        :type root: TreeNode\n",
    "        :rtype: List[List[int]]\n",
    "        \"\"\"\n",
    "        if not root:\n",
    "            return\n",
    "        queue = [] # for level order traversal\n",
    "        mapping= {} # store nodes with same hd together (map)\n",
    "        hd_node = {} # store what hd each node has.\n",
    "        ans = []\n",
    "\n",
    "        # Lets initalize\n",
    "        queue.append(root)\n",
    "        mapping[0] = [root.val]\n",
    "        hd_node[root] = 0\n",
    "\n",
    "\n",
    "        # Now we will go through the queue\n",
    "        while queue:\n",
    "            temp = queue.pop(0)\n",
    "\n",
    "            if temp.left:\n",
    "                queue.append(temp.left)\n",
    "                hd = hd_node[temp.left] = hd_node[temp] - 1\n",
    "                # hd stores the current horizontal distance\n",
    "\n",
    "                if mapping.get(hd) is None:\n",
    "                    mapping[hd] = []\n",
    "                mapping[hd].append(temp.left.val)\n",
    "\n",
    "            if temp.right:\n",
    "                queue.append(temp.right)\n",
    "                hd = hd_node[temp.right] = hd_node[temp] + 1\n",
    "                # hd stores the current horizontal distance\n",
    "\n",
    "                if mapping.get(hd) is None:\n",
    "                    mapping[hd] = []\n",
    "                mapping[hd].append(temp.right.val)\n",
    "\n",
    "        # Now we need to sort the map according to hd\n",
    "        sorted_m = collections.OrderedDict(sorted(mapping.items()))\n",
    "        \n",
    "        \n",
    "        # Traverse the sorted map and print nodes at each horizontal distance \n",
    "        \n",
    "        for i in sorted_m.values(): \n",
    "            arr = []\n",
    "            for j in i: \n",
    "                arr.append(j)\n",
    "            ans.append(arr)\n",
    "        return ans\n"
   ]
  },
  {
   "cell_type": "code",
   "execution_count": 28,
   "metadata": {},
   "outputs": [],
   "source": [
    "# But I also need this stuff to be sorted by numeric if they fall in same line\n",
    "def helper(self, placement,level, root, dic):\n",
    "        if(not root):\n",
    "            return\n",
    "        dic[placement].append((level, root.val))\n",
    "        self.helper(placement-1, level+1, root.left, dic)\n",
    "        self.helper(placement+1, level+1, root.right, dic)\n",
    "\n",
    "def verticalTraversal(self, root):\n",
    "        dic = defaultdict(list)\n",
    "        self.helper(0,0, root, dic)\n",
    "        result = []\n",
    "        for i in sorted(dic.keys()):\n",
    "            temp = []\n",
    "            for j in sorted(dic[i]):\n",
    "                temp.append(j[1])\n",
    "            result.append(temp)\n",
    "        return result"
   ]
  },
  {
   "cell_type": "code",
   "execution_count": 30,
   "metadata": {},
   "outputs": [],
   "source": [
    "path = \"\" + str(4)"
   ]
  },
  {
   "cell_type": "code",
   "execution_count": 31,
   "metadata": {},
   "outputs": [
    {
     "data": {
      "text/plain": [
       "'4'"
      ]
     },
     "execution_count": 31,
     "metadata": {},
     "output_type": "execute_result"
    }
   ],
   "source": [
    "path"
   ]
  },
  {
   "cell_type": "code",
   "execution_count": null,
   "metadata": {},
   "outputs": [],
   "source": []
  }
 ],
 "metadata": {
  "kernelspec": {
   "display_name": "Python 3",
   "language": "python",
   "name": "python3"
  },
  "language_info": {
   "codemirror_mode": {
    "name": "ipython",
    "version": 3
   },
   "file_extension": ".py",
   "mimetype": "text/x-python",
   "name": "python",
   "nbconvert_exporter": "python",
   "pygments_lexer": "ipython3",
   "version": "3.6.5"
  }
 },
 "nbformat": 4,
 "nbformat_minor": 2
}
